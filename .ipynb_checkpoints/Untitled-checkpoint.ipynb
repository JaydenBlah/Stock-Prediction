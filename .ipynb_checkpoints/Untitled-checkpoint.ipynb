{
 "cells": [
  {
   "cell_type": "code",
   "execution_count": 3,
   "id": "009875c7-5c54-47d0-82d5-e4fa4aac8044",
   "metadata": {},
   "outputs": [],
   "source": [
    "import yfinance as yf"
   ]
  },
  {
   "cell_type": "code",
   "execution_count": 4,
   "id": "1dac32d8-33c2-4914-82c4-aa63f1dc53a2",
   "metadata": {},
   "outputs": [],
   "source": [
    "from datetime import datetime\n",
    "end=datetime.now()\n",
    "start=datetime(end.year-10,end.month,end.day)"
   ]
  },
  {
   "cell_type": "code",
   "execution_count": 5,
   "id": "a0db9655-ab4f-452c-a383-076f1c59a983",
   "metadata": {},
   "outputs": [
    {
     "name": "stderr",
     "output_type": "stream",
     "text": [
      "[*********************100%***********************]  1 of 1 completed\n"
     ]
    }
   ],
   "source": [
    "stock=\"GOOG\"\n",
    "google_data=yf.download(stock,start,end)"
   ]
  },
  {
   "cell_type": "code",
   "execution_count": 6,
   "id": "8b78dca8-b708-4e5e-a799-4a59a764548b",
   "metadata": {},
   "outputs": [
    {
     "data": {
      "text/html": [
       "<div>\n",
       "<style scoped>\n",
       "    .dataframe tbody tr th:only-of-type {\n",
       "        vertical-align: middle;\n",
       "    }\n",
       "\n",
       "    .dataframe tbody tr th {\n",
       "        vertical-align: top;\n",
       "    }\n",
       "\n",
       "    .dataframe thead th {\n",
       "        text-align: right;\n",
       "    }\n",
       "</style>\n",
       "<table border=\"1\" class=\"dataframe\">\n",
       "  <thead>\n",
       "    <tr style=\"text-align: right;\">\n",
       "      <th></th>\n",
       "      <th>Open</th>\n",
       "      <th>High</th>\n",
       "      <th>Low</th>\n",
       "      <th>Close</th>\n",
       "      <th>Adj Close</th>\n",
       "      <th>Volume</th>\n",
       "    </tr>\n",
       "    <tr>\n",
       "      <th>Date</th>\n",
       "      <th></th>\n",
       "      <th></th>\n",
       "      <th></th>\n",
       "      <th></th>\n",
       "      <th></th>\n",
       "      <th></th>\n",
       "    </tr>\n",
       "  </thead>\n",
       "  <tbody>\n",
       "    <tr>\n",
       "      <th>2014-09-15</th>\n",
       "      <td>28.568565</td>\n",
       "      <td>28.668791</td>\n",
       "      <td>28.332712</td>\n",
       "      <td>28.576544</td>\n",
       "      <td>28.506538</td>\n",
       "      <td>31951483</td>\n",
       "    </tr>\n",
       "    <tr>\n",
       "      <th>2014-09-16</th>\n",
       "      <td>28.559589</td>\n",
       "      <td>28.995394</td>\n",
       "      <td>28.554604</td>\n",
       "      <td>28.918104</td>\n",
       "      <td>28.847260</td>\n",
       "      <td>29607064</td>\n",
       "    </tr>\n",
       "    <tr>\n",
       "      <th>2014-09-17</th>\n",
       "      <td>28.921097</td>\n",
       "      <td>29.295568</td>\n",
       "      <td>28.859516</td>\n",
       "      <td>29.158445</td>\n",
       "      <td>29.087013</td>\n",
       "      <td>33856699</td>\n",
       "    </tr>\n",
       "    <tr>\n",
       "      <th>2014-09-18</th>\n",
       "      <td>29.269640</td>\n",
       "      <td>29.396292</td>\n",
       "      <td>29.169914</td>\n",
       "      <td>29.382830</td>\n",
       "      <td>29.310848</td>\n",
       "      <td>28891103</td>\n",
       "    </tr>\n",
       "    <tr>\n",
       "      <th>2014-09-19</th>\n",
       "      <td>29.494024</td>\n",
       "      <td>29.742342</td>\n",
       "      <td>29.394299</td>\n",
       "      <td>29.722397</td>\n",
       "      <td>29.649584</td>\n",
       "      <td>74732617</td>\n",
       "    </tr>\n",
       "    <tr>\n",
       "      <th>2014-09-22</th>\n",
       "      <td>29.609707</td>\n",
       "      <td>29.616138</td>\n",
       "      <td>29.093124</td>\n",
       "      <td>29.288090</td>\n",
       "      <td>29.216339</td>\n",
       "      <td>33790518</td>\n",
       "    </tr>\n",
       "    <tr>\n",
       "      <th>2014-09-23</th>\n",
       "      <td>29.262161</td>\n",
       "      <td>29.262161</td>\n",
       "      <td>28.970463</td>\n",
       "      <td>28.976944</td>\n",
       "      <td>28.905956</td>\n",
       "      <td>29428575</td>\n",
       "    </tr>\n",
       "    <tr>\n",
       "      <th>2014-09-24</th>\n",
       "      <td>28.993399</td>\n",
       "      <td>29.400780</td>\n",
       "      <td>28.946527</td>\n",
       "      <td>29.319004</td>\n",
       "      <td>29.247179</td>\n",
       "      <td>34562632</td>\n",
       "    </tr>\n",
       "    <tr>\n",
       "      <th>2014-09-25</th>\n",
       "      <td>29.297066</td>\n",
       "      <td>29.318506</td>\n",
       "      <td>28.630396</td>\n",
       "      <td>28.674274</td>\n",
       "      <td>28.604027</td>\n",
       "      <td>38519466</td>\n",
       "    </tr>\n",
       "    <tr>\n",
       "      <th>2014-09-26</th>\n",
       "      <td>28.724138</td>\n",
       "      <td>28.883202</td>\n",
       "      <td>28.654329</td>\n",
       "      <td>28.775995</td>\n",
       "      <td>28.705500</td>\n",
       "      <td>28873054</td>\n",
       "    </tr>\n",
       "  </tbody>\n",
       "</table>\n",
       "</div>"
      ],
      "text/plain": [
       "                 Open       High        Low      Close  Adj Close    Volume\n",
       "Date                                                                       \n",
       "2014-09-15  28.568565  28.668791  28.332712  28.576544  28.506538  31951483\n",
       "2014-09-16  28.559589  28.995394  28.554604  28.918104  28.847260  29607064\n",
       "2014-09-17  28.921097  29.295568  28.859516  29.158445  29.087013  33856699\n",
       "2014-09-18  29.269640  29.396292  29.169914  29.382830  29.310848  28891103\n",
       "2014-09-19  29.494024  29.742342  29.394299  29.722397  29.649584  74732617\n",
       "2014-09-22  29.609707  29.616138  29.093124  29.288090  29.216339  33790518\n",
       "2014-09-23  29.262161  29.262161  28.970463  28.976944  28.905956  29428575\n",
       "2014-09-24  28.993399  29.400780  28.946527  29.319004  29.247179  34562632\n",
       "2014-09-25  29.297066  29.318506  28.630396  28.674274  28.604027  38519466\n",
       "2014-09-26  28.724138  28.883202  28.654329  28.775995  28.705500  28873054"
      ]
     },
     "execution_count": 6,
     "metadata": {},
     "output_type": "execute_result"
    }
   ],
   "source": [
    "google_data.head(10)"
   ]
  },
  {
   "cell_type": "code",
   "execution_count": 7,
   "id": "e127357b-9c9e-46a2-808e-0472c60fc573",
   "metadata": {},
   "outputs": [
    {
     "data": {
      "text/plain": [
       "(2516, 6)"
      ]
     },
     "execution_count": 7,
     "metadata": {},
     "output_type": "execute_result"
    }
   ],
   "source": [
    "google_data.shape"
   ]
  },
  {
   "cell_type": "code",
   "execution_count": 8,
   "id": "be926d6f-9b58-42f3-9abb-b11e7be23136",
   "metadata": {},
   "outputs": [
    {
     "data": {
      "text/html": [
       "<div>\n",
       "<style scoped>\n",
       "    .dataframe tbody tr th:only-of-type {\n",
       "        vertical-align: middle;\n",
       "    }\n",
       "\n",
       "    .dataframe tbody tr th {\n",
       "        vertical-align: top;\n",
       "    }\n",
       "\n",
       "    .dataframe thead th {\n",
       "        text-align: right;\n",
       "    }\n",
       "</style>\n",
       "<table border=\"1\" class=\"dataframe\">\n",
       "  <thead>\n",
       "    <tr style=\"text-align: right;\">\n",
       "      <th></th>\n",
       "      <th>Open</th>\n",
       "      <th>High</th>\n",
       "      <th>Low</th>\n",
       "      <th>Close</th>\n",
       "      <th>Adj Close</th>\n",
       "      <th>Volume</th>\n",
       "    </tr>\n",
       "  </thead>\n",
       "  <tbody>\n",
       "    <tr>\n",
       "      <th>count</th>\n",
       "      <td>2516.000000</td>\n",
       "      <td>2516.000000</td>\n",
       "      <td>2516.000000</td>\n",
       "      <td>2516.000000</td>\n",
       "      <td>2516.000000</td>\n",
       "      <td>2.516000e+03</td>\n",
       "    </tr>\n",
       "    <tr>\n",
       "      <th>mean</th>\n",
       "      <td>78.300895</td>\n",
       "      <td>79.139545</td>\n",
       "      <td>77.527401</td>\n",
       "      <td>78.347778</td>\n",
       "      <td>78.161304</td>\n",
       "      <td>3.138956e+07</td>\n",
       "    </tr>\n",
       "    <tr>\n",
       "      <th>std</th>\n",
       "      <td>42.426907</td>\n",
       "      <td>42.909174</td>\n",
       "      <td>41.994729</td>\n",
       "      <td>42.446421</td>\n",
       "      <td>42.354540</td>\n",
       "      <td>1.546925e+07</td>\n",
       "    </tr>\n",
       "    <tr>\n",
       "      <th>min</th>\n",
       "      <td>24.664783</td>\n",
       "      <td>24.730902</td>\n",
       "      <td>24.311253</td>\n",
       "      <td>24.560070</td>\n",
       "      <td>24.499903</td>\n",
       "      <td>6.936000e+06</td>\n",
       "    </tr>\n",
       "    <tr>\n",
       "      <th>25%</th>\n",
       "      <td>41.447001</td>\n",
       "      <td>41.672001</td>\n",
       "      <td>41.314139</td>\n",
       "      <td>41.529376</td>\n",
       "      <td>41.427636</td>\n",
       "      <td>2.176500e+07</td>\n",
       "    </tr>\n",
       "    <tr>\n",
       "      <th>50%</th>\n",
       "      <td>61.176001</td>\n",
       "      <td>61.575500</td>\n",
       "      <td>60.495001</td>\n",
       "      <td>60.986750</td>\n",
       "      <td>60.837345</td>\n",
       "      <td>2.752885e+07</td>\n",
       "    </tr>\n",
       "    <tr>\n",
       "      <th>75%</th>\n",
       "      <td>114.707499</td>\n",
       "      <td>116.525000</td>\n",
       "      <td>113.654501</td>\n",
       "      <td>114.980000</td>\n",
       "      <td>114.698320</td>\n",
       "      <td>3.628150e+07</td>\n",
       "    </tr>\n",
       "    <tr>\n",
       "      <th>max</th>\n",
       "      <td>191.750000</td>\n",
       "      <td>193.309998</td>\n",
       "      <td>190.619995</td>\n",
       "      <td>192.660004</td>\n",
       "      <td>192.406723</td>\n",
       "      <td>2.232980e+08</td>\n",
       "    </tr>\n",
       "  </tbody>\n",
       "</table>\n",
       "</div>"
      ],
      "text/plain": [
       "              Open         High          Low        Close    Adj Close  \\\n",
       "count  2516.000000  2516.000000  2516.000000  2516.000000  2516.000000   \n",
       "mean     78.300895    79.139545    77.527401    78.347778    78.161304   \n",
       "std      42.426907    42.909174    41.994729    42.446421    42.354540   \n",
       "min      24.664783    24.730902    24.311253    24.560070    24.499903   \n",
       "25%      41.447001    41.672001    41.314139    41.529376    41.427636   \n",
       "50%      61.176001    61.575500    60.495001    60.986750    60.837345   \n",
       "75%     114.707499   116.525000   113.654501   114.980000   114.698320   \n",
       "max     191.750000   193.309998   190.619995   192.660004   192.406723   \n",
       "\n",
       "             Volume  \n",
       "count  2.516000e+03  \n",
       "mean   3.138956e+07  \n",
       "std    1.546925e+07  \n",
       "min    6.936000e+06  \n",
       "25%    2.176500e+07  \n",
       "50%    2.752885e+07  \n",
       "75%    3.628150e+07  \n",
       "max    2.232980e+08  "
      ]
     },
     "execution_count": 8,
     "metadata": {},
     "output_type": "execute_result"
    }
   ],
   "source": [
    "google_data.describe()"
   ]
  },
  {
   "cell_type": "code",
   "execution_count": 9,
   "id": "6526f3cb-2305-44f8-8d3d-bbd586ba9469",
   "metadata": {},
   "outputs": [
    {
     "name": "stdout",
     "output_type": "stream",
     "text": [
      "<class 'pandas.core.frame.DataFrame'>\n",
      "DatetimeIndex: 2516 entries, 2014-09-15 to 2024-09-12\n",
      "Data columns (total 6 columns):\n",
      " #   Column     Non-Null Count  Dtype  \n",
      "---  ------     --------------  -----  \n",
      " 0   Open       2516 non-null   float64\n",
      " 1   High       2516 non-null   float64\n",
      " 2   Low        2516 non-null   float64\n",
      " 3   Close      2516 non-null   float64\n",
      " 4   Adj Close  2516 non-null   float64\n",
      " 5   Volume     2516 non-null   int64  \n",
      "dtypes: float64(5), int64(1)\n",
      "memory usage: 137.6 KB\n"
     ]
    }
   ],
   "source": [
    "google_data.info()"
   ]
  },
  {
   "cell_type": "code",
   "execution_count": 10,
   "id": "e9274c01-3122-4a07-8f55-32147b4d22fe",
   "metadata": {},
   "outputs": [
    {
     "data": {
      "text/plain": [
       "Open         0\n",
       "High         0\n",
       "Low          0\n",
       "Close        0\n",
       "Adj Close    0\n",
       "Volume       0\n",
       "dtype: int64"
      ]
     },
     "execution_count": 10,
     "metadata": {},
     "output_type": "execute_result"
    }
   ],
   "source": [
    "google_data.isna().sum()"
   ]
  },
  {
   "cell_type": "code",
   "execution_count": 13,
   "id": "03dd7da3-e3b2-4ea0-88cb-c2a17bf25fcc",
   "metadata": {},
   "outputs": [],
   "source": [
    "import matplotlib.pyplot as plt\n",
    "%matplotlib inline"
   ]
  },
  {
   "cell_type": "code",
   "execution_count": 14,
   "id": "5bb20a27-5ce4-41bb-92a6-b0e5c7aa9230",
   "metadata": {},
   "outputs": [
    {
     "data": {
      "text/plain": [
       "Text(0.5, 1.0, 'Closing price of Google data')"
      ]
     },
     "execution_count": 14,
     "metadata": {},
     "output_type": "execute_result"
    },
    {
     "data": {
      "image/png": "[encoded data removed]",
      "text/plain": [
       "<Figure size 1500x500 with 1 Axes>"
      ]
     },
     "metadata": {},
     "output_type": "display_data"
    }
   ],
   "source": [
    "plt.figure(figsize=(15,5))\n",
    "google_data['Adj Close'].plot()\n",
    "plt.xlabel('years')\n",
    "plt.ylabel('Adj Close')\n",
    "plt.title(\"Closing price of Google data\")"
   ]
  },
  {
   "cell_type": "code",
   "execution_count": null,
   "id": "17b55902-6c85-4c7b-bb74-7f9b5ecb09ab",
   "metadata": {},
   "outputs": [],
   "source": [
    "def plot_graph(figsize,values,column_name):\n",
    "    plt.figure()\n",
    "    values.plot(figsize=figsize)\n",
    "    plt.xlabel('years')\n",
    "    plt.ylabel(column_name)\n",
    "    plt.title(f\"{column_name}Closing price of Google data\")"
   ]
  }
 ],
 "metadata": {
  "kernelspec": {
   "display_name": "Python 3 (ipykernel)",
   "language": "python",
   "name": "python3"
  },
  "language_info": {
   "codemirror_mode": {
    "name": "ipython",
    "version": 3
   },
   "file_extension": ".py",
   "mimetype": "text/x-python",
   "name": "python",
   "nbconvert_exporter": "python",
   "pygments_lexer": "ipython3",
   "version": "3.10.6"
  }
 },
 "nbformat": 4,
 "nbformat_minor": 5
}
